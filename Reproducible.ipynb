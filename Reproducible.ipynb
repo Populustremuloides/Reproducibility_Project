{
 "cells": [
  {
   "cell_type": "code",
   "execution_count": 19,
   "metadata": {},
   "outputs": [
    {
     "name": "stdout",
     "output_type": "stream",
     "text": [
      "[1] \"made it to checkpoint a\"\n"
     ]
    }
   ],
   "source": [
    "# article: https://journals.plos.org/plosone/article?id=10.1371/journal.pone.0206300\n",
    "\n",
    "library(tidyverse)\n",
    "library(dplyr)\n",
    "\n",
    "download.file(\"https://ndownloader.figshare.com/files/13351808\", \"dataFile.xlsx\", mode = \"wb\")\n",
    "d = readxl::read_xlsx(\"dataFile.xlsx\")\n",
    "\n",
    "print(\"made it to checkpoint a\")"
   ]
  },
  {
   "cell_type": "code",
   "execution_count": 20,
   "metadata": {},
   "outputs": [
    {
     "name": "stdout",
     "output_type": "stream",
     "text": [
      "[1] \"made it to checkpoint b\"\n"
     ]
    }
   ],
   "source": [
    "# grab all rows where Order equals 1 or 0 \n",
    "proactive = dplyr::filter(d, Order == \"1\") # Proactive\n",
    "reactive = filter(d, Order == \"0\") # Reactive\n",
    "\n",
    "print(\"made it to checkpoint b\")"
   ]
  },
  {
   "cell_type": "code",
   "execution_count": 21,
   "metadata": {},
   "outputs": [
    {
     "name": "stdout",
     "output_type": "stream",
     "text": [
      "[1] \"made it to checkpoint c\"\n"
     ]
    }
   ],
   "source": [
    "# grab all rows where trial = 1, 2, or 3\n",
    "proactive1 = filter(proactive, `Information Round` == \"1\") # no information\n",
    "proactive2 = filter(proactive, `Information Round` == \"2\") # positive information\n",
    "proactive3 = filter(proactive, `Information Round` == \"3\") # negative information\n",
    "\n",
    "reactive1 = filter(reactive, `Information Round` == \"1\") # no information\n",
    "reactive2 = filter(reactive, `Information Round` == \"2\") # positive information\n",
    "reactive3 = filter(reactive, `Information Round` == \"3\") # negative inofrmation\n",
    "\n",
    "print(\"made it to checkpoint c\")"
   ]
  },
  {
   "cell_type": "code",
   "execution_count": 22,
   "metadata": {},
   "outputs": [
    {
     "name": "stdout",
     "output_type": "stream",
     "text": [
      "[1] \"made it to checkpoint d\"\n"
     ]
    }
   ],
   "source": [
    "# gather the \"percent changes\" for the 6 categories of Proactive\n",
    "\n",
    "# noInfoProactivePercent **********************************************\n",
    "proactive1NonGM = mutate(proactive1, diff = GM - NonGM)\n",
    "proactive1Unlabeled = mutate(proactive1, diff = GM - NoLabel)\n",
    "\n",
    "proactive1NonGMChange = pull(proactive1NonGM, diff)\n",
    "b = proactive1NonGMChange >= 0\n",
    "noInfoProactiveNonGMPercent = sum(b) / length(b)               # non-GM\n",
    "\n",
    "proactive1UnlabledChange = pull(proactive1Unlabeled, diff)\n",
    "b = proactive1UnlabledChange >= 0\n",
    "noInfoProactiveUnlabledPercent = sum(b) / length(b)            # unlabled\n",
    "\n",
    "# positiveInfoProactivePercent **********************************************\n",
    "proactive2NonGM = mutate(proactive2, diff = GM - NonGM)\n",
    "proactive2Unlabeled = mutate(proactive2, diff = GM - NoLabel)\n",
    "\n",
    "proactive2NonGMChange = pull(proactive2NonGM, diff)\n",
    "b = proactive2NonGMChange >= 0\n",
    "positiveInfoProactiveNonGMPercent = sum(b) / length(b)        # non-GM\n",
    "\n",
    "proactive2UnlabledChange = pull(proactive2Unlabeled, diff)\n",
    "b = proactive2UnlabledChange >= 0\n",
    "positiveInfoProactiveUnlabledPercent = sum(b) / length(b)     # unlabled\n",
    "\n",
    "\n",
    "# negativeInfoProactivePercent **********************************************\n",
    "proactive3NonGM = mutate(proactive3, diff = GM - NonGM)\n",
    "proactive3Unlabeled = mutate(proactive3, diff = GM - NoLabel)\n",
    "\n",
    "proactive3NonGMChange = pull(proactive3NonGM, diff)\n",
    "b = proactive3NonGMChange >= 0\n",
    "negativeInfoProactiveNonGMPercent = sum(b) / length(b)        # non-GM\n",
    "\n",
    "proactive3UnlabledChange = pull(proactive3Unlabeled, diff)\n",
    "b = proactive3UnlabledChange >= 0\n",
    "negativeInfoProactiveUnlabledPercent = sum(b) / length(b)     # unlabled\n",
    "\n",
    "print(\"made it to checkpoint d\")"
   ]
  },
  {
   "cell_type": "code",
   "execution_count": 23,
   "metadata": {},
   "outputs": [
    {
     "name": "stdout",
     "output_type": "stream",
     "text": [
      "[1] \"made it to checkpoint e\"\n"
     ]
    }
   ],
   "source": [
    "# gather the \"percent changes\" for the 6 categories of Reactive\n",
    "\n",
    "# noInfoReactivePercent **********************************************\n",
    "reactive1NonGM = mutate(reactive1, diff = GM - NonGM)\n",
    "reactive1Unlabeled = mutate(reactive1, diff = GM - NoLabel)\n",
    "\n",
    "reactive1NonGMChange = pull(reactive1NonGM, diff)\n",
    "b = reactive1NonGMChange >= 0\n",
    "noInfoReactiveNonGMPercent = sum(b) / length(b)              # non-GM\n",
    "\n",
    "reactive1UnlabledChange = pull(reactive1Unlabeled, diff)\n",
    "b = reactive1UnlabledChange >= 0\n",
    "noInfoReactiveUnlabledPercent = sum(b) / length(b)           # unlabled\n",
    "\n",
    "# positiveInforeactivePercent **********************************************\n",
    "reactive2NonGM = mutate(reactive2, diff = GM - NonGM)\n",
    "reactive2Unlabeled = mutate(reactive2, diff = GM - NoLabel)\n",
    "\n",
    "reactive2NonGMChange = pull(reactive2NonGM, diff)\n",
    "b = reactive2NonGMChange >= 0\n",
    "positiveInfoReactiveNonGMPercent = sum(b) / length(b)        # non-GM\n",
    "\n",
    "reactive2UnlabledChange = pull(reactive2Unlabeled, diff)\n",
    "b = reactive2UnlabledChange >= 0\n",
    "positiveInfoReactiveUnlabledPercent = sum(b) / length(b)     # unlabled\n",
    "\n",
    "\n",
    "# negativeInforeactivePercent **********************************************\n",
    "reactive3NonGM = mutate(reactive3, diff = GM - NonGM)\n",
    "reactive3Unlabeled = mutate(reactive3, diff = GM - NoLabel)\n",
    "\n",
    "reactive3NonGMChange = pull(reactive3NonGM, diff)\n",
    "b = reactive3NonGMChange >= 0\n",
    "negativeInfoReactiveNonGMPercent = sum(b) / length(b)       # non-GM\n",
    "\n",
    "reactive3UnlabledChange = pull(reactive3Unlabeled, diff)\n",
    "b = reactive3UnlabledChange >= 0\n",
    "negativeInfoReactiveUnlabledPercent = sum(b) / length(b)    # unlabled\n",
    "\n",
    "print(\"made it to checkpoint e\")"
   ]
  },
  {
   "cell_type": "code",
   "execution_count": 24,
   "metadata": {},
   "outputs": [
    {
     "name": "stdout",
     "output_type": "stream",
     "text": [
      "[1] \"made it to checkpoint f\"\n"
     ]
    }
   ],
   "source": [
    "# combine the data into a tibble\n",
    "\n",
    "finalData = tribble(\n",
    "  ~activity, ~relativeTo, ~informationType, ~value,\n",
    "  \"proactive\", \"nonGM\", \"noInfo\", noInfoProactiveNonGMPercent,\n",
    "  \"proactive\",\"nonGM\", \"positive\", positiveInfoProactiveNonGMPercent,\n",
    "  \"proactive\",\"nonGM\", \"negative\", negativeInfoProactiveNonGMPercent,\n",
    "  \"proactive\",\"unlabled\", \"noInfo\", noInfoProactiveUnlabledPercent, \n",
    "  \"proactive\",\"unlabled\", \"positive\", positiveInfoProactiveUnlabledPercent, \n",
    "  \"proactive\",\"unlabled\", \"negative\", negativeInfoProactiveUnlabledPercent,\n",
    "  \"reactive\",\"nonGM\", \"noInfo\", noInfoReactiveNonGMPercent,\n",
    "  \"reactive\",\"nonGM\", \"positive\", positiveInfoReactiveNonGMPercent,\n",
    "  \"reactive\",\"nonGM\", \"negative\", negativeInfoReactiveNonGMPercent,\n",
    "  \"reactive\",\"unlabled\", \"noInfo\", noInfoReactiveUnlabledPercent, \n",
    "  \"reactive\",\"unlabled\", \"positive\", positiveInfoReactiveUnlabledPercent, \n",
    "  \"reactive\",\"unlabled\", \"negative\", negativeInfoReactiveUnlabledPercent\n",
    ")\n",
    "\n",
    "print(\"made it to checkpoint f\")"
   ]
  },
  {
   "cell_type": "code",
   "execution_count": 25,
   "metadata": {},
   "outputs": [
    {
     "data": {},
     "metadata": {},
     "output_type": "display_data"
    },
    {
     "name": "stdout",
     "output_type": "stream",
     "text": [
      "[1] \"made it to checkpoint g\"\n"
     ]
    },
    {
     "data": {
      "image/png": "[encoded data removed]",
      "text/plain": [
       "plot without title"
      ]
     },
     "metadata": {},
     "output_type": "display_data"
    }
   ],
   "source": [
    "# make the actual plot!\n",
    "\n",
    "ggplot(data = finalData, mapping = aes(x = informationType, y = value, fill=relativeTo)) +\n",
    "  geom_bar(stat=\"identity\", position=position_dodge()) +\n",
    "  labs(x = \"Information Type\", y = \"Percentage of Choosing GM\") +\n",
    "  guides(fill = guide_legend(title=\"Relative To:\")) +\n",
    "  facet_wrap(~ activity, nrow=2)\n",
    "\n",
    "print(\"made it to checkpoint g\")"
   ]
  },
  {
   "cell_type": "code",
   "execution_count": null,
   "metadata": {},
   "outputs": [],
   "source": []
  }
 ],
 "metadata": {
  "kernelspec": {
   "display_name": "R",
   "language": "R",
   "name": "ir"
  },
  "language_info": {
   "codemirror_mode": "r",
   "file_extension": ".r",
   "mimetype": "text/x-r-source",
   "name": "R",
   "pygments_lexer": "r",
   "version": "3.4.4"
  }
 },
 "nbformat": 4,
 "nbformat_minor": 2
}
